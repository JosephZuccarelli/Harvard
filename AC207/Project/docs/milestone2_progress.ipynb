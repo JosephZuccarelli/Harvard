{
 "cells": [
  {
   "cell_type": "markdown",
   "metadata": {},
   "source": [
    "# Milestone 2b: Progress Report"
   ]
  },
  {
   "cell_type": "markdown",
   "metadata": {},
   "source": [
    "Below, we have outlined what each of our four group members have been assigned to do for Milestone 2 as well as what they have accomplished since the submission of Milestone 1: "
   ]
  },
  {
   "cell_type": "markdown",
   "metadata": {},
   "source": [
    "## Aditi Memani"
   ]
  },
  {
   "cell_type": "markdown",
   "metadata": {},
   "source": [
    "_What tasks has Aditi been assigned for Milestone 2:_\n",
    "\n",
    "* Aditi will first work on implementing the addition, subtraction, multiplication, and division elementary function overloading along with the logic to handle dual number inputs. Next, she will write the associated pytests and documentation for all the elementary functions mentioned above. After this, she will create the demo for how to install and use our package via a jupyter notebook walk-through. \n",
    "\n",
    "* Aditi will work together with the rest of the group members to develop the \"core\" of the forward mode implementation and assist the rest of the group members in the primary Jacobian implementation for both scalar and vector inputs. "
   ]
  },
  {
   "cell_type": "markdown",
   "metadata": {},
   "source": [
    "_What has Aditi done since the submission of Milestone 1:_\n",
    "\n",
    "* Since submission of Milestone1, Aditi has finished overloading the functions for addition, subtraction, multiplication, and division for both scalar and dual number inputs. She also wrote docstrings and test cases for these respective functions. Finally, Aditi has helped the other group members create the forward mode automatic differentiation implementation, which works for both scalar and vector inputs. \n",
    "\n",
    "* Aditi will now work on creating documentation for the demo of how to install and use our package and implement additional integration tests for her assigned elementary functions. She will also clean up the deriviative getter and setter functions in the val_derv class. "
   ]
  },
  {
   "cell_type": "markdown",
   "metadata": {},
   "source": [
    "## Hari Raval"
   ]
  },
  {
   "cell_type": "markdown",
   "metadata": {},
   "source": [
    "_What tasks has Hari been assigned for Milestone 2:_\n",
    "\n",
    "* Hari will first work on implementing the sin, cosine, tangent, and negation elementary function overloading along with the logic to handle dual number inputs. Next, he will write the associated pytests and documentation for all the elementary functions mentioned above. After this, he will work on providing documentation for the testing suite and updating the software organization section of the documentation.\n",
    "\n",
    "* Hari  will work together with the rest of the group members to develop the \"core\" of the forward mode implementation and assist the rest of the group members in the primary Jacobian implementation for both scalar and vector inputs. "
   ]
  },
  {
   "cell_type": "markdown",
   "metadata": {},
   "source": [
    "_What has Hari done since the submission of Milestone 1:_\n",
    "\n",
    "* Since submission of Milestone 1, Hari has finished implementing the sin, cosine, tangent, and negation elementary function overloading for both scalar and dual number inputs. Hari also wrote docstrings and test cases for these respective functions in the testing suite and cleaned up all code files. Finally, Hari contributed in the writing and design of the forward mode automatic differentiation implementation, which is functional for both scalar and vector inputs.\n",
    "\n",
    "* Hari will now work on updating the documentation for the software organization section and writing additional integration tests for his assigned elementary functions above. Hari will also create test cases (both unit and integration) for the primary forward mode functions."
   ]
  },
  {
   "cell_type": "markdown",
   "metadata": {},
   "source": [
    "## Joey Zuccarelli "
   ]
  },
  {
   "cell_type": "markdown",
   "metadata": {},
   "source": [
    "_What tasks has Joey been assigned for Milestone 2:_\n",
    "\n",
    "* Joey will first work on implementing the log, exponential, square root, and power elementary function overloading along with the logic to handle dual number inputs. Next, he will write the associated pytests and documentation for all the elementary functions mentioned above. After this, he will work on updating the implementation details for our program by providing use cases for both scalar and vector inputs as well as detailing the core data structures and interactions between each of the different classes and modules. \n",
    "\n",
    "* Joey will work together with the rest of the group members to develop the \"core\" of the forward mode implementation and assist the rest of the group members in the primary Jacobian implementation for both scalar and vector inputs. "
   ]
  },
  {
   "cell_type": "markdown",
   "metadata": {},
   "source": [
    "_What has Joey done since the submission of Milestone 1:_\n",
    "\n",
    "* Since submission of Milestone 1, Joey has finished implementing the log, exponential, square root, and power elementary function overloading for both scalar and dual number inputs. Joey also wrote docstrings and test cases for his assigned functions in the testing suite. Finally, Joey created a list of all test cases that we should consider in our pytests to achieve maximal code coverage. \n",
    "\n",
    "* Joey will now work on updating the documentation for the implementation details for our program by writing use cases for both the scalar and vector inputs and providing details about our core data structures and interactions between each of the different classes and modules. Joey will also create integration tests for his assigned elementary functions."
   ]
  },
  {
   "cell_type": "markdown",
   "metadata": {},
   "source": [
    "## Zongjun Liu"
   ]
  },
  {
   "cell_type": "markdown",
   "metadata": {},
   "source": [
    "_What tasks has Zongjun been assigned for Milestone 2:_\n",
    "\n",
    "* Zongjun will first work on implementing the cotangent, cosecant, and secant elementary function overloading along with the logic to handle dual number inputs. Next, he will write the associated pytests and documentation for all the elementary functions mentioned above. After this, he will work on updating the introduction and background sections to also include the methodology behind reverse mode automatic differentiation.\n",
    "\n",
    "* Zongjun will work together with the rest of the group members to develop the \"core\" of the forward mode implementation and assist the rest of the group members in the primary Jacobian implementation for both scalar and vector inputs. "
   ]
  },
  {
   "cell_type": "markdown",
   "metadata": {},
   "source": [
    "_What has Zongjun done since the submission of Milestone 1:_\n",
    "\n",
    "* Since submission of Milestone 1, Zongjun has finished implementing the cotangent, cosecant, and secant elementary function overloading for both scalar and dual number inputs. Zongjun has also wrote docstrings and test cases for his assigned functions in the testing suite. Finally, Zongjun added exceptions, as needed, in the elementary functions to ensure we are accounting for edge cases in our derivative and function evaluations. \n",
    "\n",
    "* Zongjun will now work on updating the documentation for the introduction and background sections and writing integration tests for the elementary functions he was assigned above. "
   ]
  }
 ],
 "metadata": {
  "kernelspec": {
   "display_name": "Python 3",
   "language": "python",
   "name": "python3"
  },
  "language_info": {
   "codemirror_mode": {
    "name": "ipython",
    "version": 3
   },
   "file_extension": ".py",
   "mimetype": "text/x-python",
   "name": "python",
   "nbconvert_exporter": "python",
   "pygments_lexer": "ipython3",
   "version": "3.7.4"
  }
 },
 "nbformat": 4,
 "nbformat_minor": 5
}
